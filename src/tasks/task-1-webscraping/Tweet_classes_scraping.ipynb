{
 "cells": [
  {
   "cell_type": "code",
   "execution_count": 1,
   "metadata": {},
   "outputs": [],
   "source": [
    "# Install snscrape\n",
    "#!pip install git+https://github.com/JustAnotherArchivist/snscrape.git"
   ]
  },
  {
   "cell_type": "code",
   "execution_count": 2,
   "metadata": {},
   "outputs": [],
   "source": [
    "# Importing required modules\n",
    "import itertools\n",
    "import pandas as pd\n",
    "import snscrape.modules.twitter as sntwitter"
   ]
  },
  {
   "cell_type": "code",
   "execution_count": 2,
   "metadata": {},
   "outputs": [],
   "source": [
    "# Giving the list of terms to searched\n",
    "search_terms = [\"Nurse\", \"doctor\", \"medical professional\", \"registered nurse\", \"dr\", \"patient rep\"]"
   ]
  },
  {
   "cell_type": "code",
   "execution_count": 9,
   "metadata": {},
   "outputs": [
    {
     "data": {
      "text/plain": [
       "'Nurse OR doctor OR medical professional OR registered nurse OR dr OR patient rep'"
      ]
     },
     "execution_count": 9,
     "metadata": {},
     "output_type": "execute_result"
    }
   ],
   "source": [
    "# Creating the search string based on the search_terms.\n",
    "search_string = \"\"\n",
    "\n",
    "for i in range(len(search_terms)):\n",
    "    if i!=len(search_terms)-1:\n",
    "        search_term =search_terms[i]\n",
    "        search_string += search_term + \" OR \"\n",
    "\n",
    "search_string += search_terms[-1]\n",
    "\n",
    "search_string"
   ]
  },
  {
   "cell_type": "code",
   "execution_count": 10,
   "metadata": {},
   "outputs": [],
   "source": [
    "# Creating a pandas dataframe with the extracted tweets\n",
    "tweets_df = pd.DataFrame(itertools.islice(sntwitter.TwitterSearchScraper(search_string).get_items(), 10000))"
   ]
  },
  {
   "cell_type": "code",
   "execution_count": 11,
   "metadata": {},
   "outputs": [],
   "source": [
    "# PATH to save the data\n",
    "path = r\"ENTER THE PATH\"\n",
    "tweets_df.to_pickle(path + \"hospital_staff\" + \".pkl\")"
   ]
  },
  {
   "cell_type": "code",
   "execution_count": 12,
   "metadata": {},
   "outputs": [
    {
     "data": {
      "text/plain": [
       "(985, 28)"
      ]
     },
     "execution_count": 12,
     "metadata": {},
     "output_type": "execute_result"
    }
   ],
   "source": [
    "tweets_df.shape"
   ]
  }
 ],
 "metadata": {
  "kernelspec": {
   "display_name": "Python 3",
   "language": "python",
   "name": "python3"
  },
  "language_info": {
   "codemirror_mode": {
    "name": "ipython",
    "version": 3
   },
   "file_extension": ".py",
   "mimetype": "text/x-python",
   "name": "python",
   "nbconvert_exporter": "python",
   "pygments_lexer": "ipython3",
   "version": "3.8.5"
  }
 },
 "nbformat": 4,
 "nbformat_minor": 4
}
