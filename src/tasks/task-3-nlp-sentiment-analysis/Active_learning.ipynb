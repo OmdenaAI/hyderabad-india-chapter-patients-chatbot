{
  "nbformat": 4,
  "nbformat_minor": 0,
  "metadata": {
    "colab": {
      "name": "Active_learning.ipynb",
      "provenance": [],
      "collapsed_sections": []
    },
    "kernelspec": {
      "name": "python3",
      "display_name": "Python 3"
    },
    "language_info": {
      "name": "python"
    }
  },
  "cells": [
    {
      "cell_type": "code",
      "source": [
        "# do all the needed imports\n",
        "import pandas as pd\n",
        "import json\n",
        "import random\n",
        "from sklearn.metrics import classification_report\n",
        "from sklearn.metrics import precision_recall_fscore_support, precision_recall_curve, auc, f1_score\n",
        "from sklearn.metrics import accuracy_score, roc_auc_score\n",
        "from sklearn.feature_extraction.text import TfidfVectorizer\n",
        "from sklearn.model_selection import train_test_split\n",
        "from sklearn.pipeline import Pipeline\n",
        "from sklearn.linear_model import LogisticRegression\n",
        "import matplotlib.pyplot as plt\n",
        "import seaborn as sns\n",
        "import numpy as np\n",
        "import scipy.spatial as sp\n",
        "import tensorflow_hub as hub\n",
        "import tensorflow as tf\n",
        "import abc\n",
        "from typing import List\n",
        "from io import BytesIO\n",
        "from zipfile import ZipFile\n",
        "from urllib.request import urlopen\n",
        "import csv"
      ],
      "metadata": {
        "id": "-Das5VDUCbq1"
      },
      "execution_count": 1,
      "outputs": []
    },
    {
      "cell_type": "code",
      "source": [
        "#get file paths\n",
        "tweet_file='/content/cleaned_tweets - cleaned_tweets.csv'\n",
        "tweetClass_file='/content/with_class_cleaned_tweets - with_class_cleaned_tweets.csv'"
      ],
      "metadata": {
        "id": "ZRoI7SU0CnTu"
      },
      "execution_count": 2,
      "outputs": []
    },
    {
      "cell_type": "code",
      "source": [
        "tweets = pd.read_csv(tweet_file)\n",
        "tweetsClass=pd.read_csv(tweetClass_file)"
      ],
      "metadata": {
        "id": "E56sHVnPFiQp"
      },
      "execution_count": 3,
      "outputs": []
    },
    {
      "cell_type": "code",
      "source": [
        "print(len(tweets))\n",
        "print(len(tweetsClass))"
      ],
      "metadata": {
        "colab": {
          "base_uri": "https://localhost:8080/"
        },
        "id": "pX5aBU0-ctxH",
        "outputId": "d424d213-826b-4669-a2d8-d61f5fc0ec79"
      },
      "execution_count": 4,
      "outputs": [
        {
          "output_type": "stream",
          "name": "stdout",
          "text": [
            "35675\n",
            "29692\n"
          ]
        }
      ]
    },
    {
      "cell_type": "code",
      "source": [
        "#remove extra columns\n",
        "tweetsClass.drop(tweetsClass.iloc[:, 5:], inplace = True, axis = 1)\n",
        "tweetsClass.drop(['tweetsORG','Hashtags'], inplace=True, axis=1)\n",
        "#remove unannotated rows\n",
        "tweetsClass.dropna(subset = ['Annotation'], inplace=True)"
      ],
      "metadata": {
        "id": "lkxtuYBlIDVI"
      },
      "execution_count": 5,
      "outputs": []
    },
    {
      "cell_type": "code",
      "source": [
        "tweetsClass"
      ],
      "metadata": {
        "colab": {
          "base_uri": "https://localhost:8080/",
          "height": 423
        },
        "id": "pVuPclDiIwQs",
        "outputId": "f095fa9f-eb9b-404b-b135-b888bff86902"
      },
      "execution_count": 6,
      "outputs": [
        {
          "output_type": "execute_result",
          "data": {
            "text/plain": [
              "                                             cleanTweets              Class  \\\n",
              "0      I recently took my young child to have blood d...  Common Procedures   \n",
              "1      I was gonna tweet this out the other daythinki...  Common Procedures   \n",
              "2      Yes we are agree will fight until last drop of...  Common Procedures   \n",
              "3                                                    NaN  Common Procedures   \n",
              "4      Insult and attack me all you want. I don't car...  Common Procedures   \n",
              "...                                                  ...                ...   \n",
              "21089  As part of our broad industrial strategy, Work...          Treatment   \n",
              "21090  The Oregon Capacity System enables healthcare ...          Treatment   \n",
              "21091  First when it dropped, and then again a while ...          Treatment   \n",
              "21092  Reminder: Next Friday (20th) we have our works...          Treatment   \n",
              "21093  I agree - it's deeply frightening (and horrify...          Treatment   \n",
              "\n",
              "       Annotation  \n",
              "0        relevant  \n",
              "1      irrelevant  \n",
              "2      irrelevant  \n",
              "3      irrelevant  \n",
              "4      irrelevant  \n",
              "...           ...  \n",
              "21089  irrelevant  \n",
              "21090  irrelevant  \n",
              "21091  irrelevant  \n",
              "21092  irrelevant  \n",
              "21093  irrelevant  \n",
              "\n",
              "[292 rows x 3 columns]"
            ],
            "text/html": [
              "\n",
              "  <div id=\"df-c8a6e096-c4f0-441b-8e6f-6003a58b8afd\">\n",
              "    <div class=\"colab-df-container\">\n",
              "      <div>\n",
              "<style scoped>\n",
              "    .dataframe tbody tr th:only-of-type {\n",
              "        vertical-align: middle;\n",
              "    }\n",
              "\n",
              "    .dataframe tbody tr th {\n",
              "        vertical-align: top;\n",
              "    }\n",
              "\n",
              "    .dataframe thead th {\n",
              "        text-align: right;\n",
              "    }\n",
              "</style>\n",
              "<table border=\"1\" class=\"dataframe\">\n",
              "  <thead>\n",
              "    <tr style=\"text-align: right;\">\n",
              "      <th></th>\n",
              "      <th>cleanTweets</th>\n",
              "      <th>Class</th>\n",
              "      <th>Annotation</th>\n",
              "    </tr>\n",
              "  </thead>\n",
              "  <tbody>\n",
              "    <tr>\n",
              "      <th>0</th>\n",
              "      <td>I recently took my young child to have blood d...</td>\n",
              "      <td>Common Procedures</td>\n",
              "      <td>relevant</td>\n",
              "    </tr>\n",
              "    <tr>\n",
              "      <th>1</th>\n",
              "      <td>I was gonna tweet this out the other daythinki...</td>\n",
              "      <td>Common Procedures</td>\n",
              "      <td>irrelevant</td>\n",
              "    </tr>\n",
              "    <tr>\n",
              "      <th>2</th>\n",
              "      <td>Yes we are agree will fight until last drop of...</td>\n",
              "      <td>Common Procedures</td>\n",
              "      <td>irrelevant</td>\n",
              "    </tr>\n",
              "    <tr>\n",
              "      <th>3</th>\n",
              "      <td>NaN</td>\n",
              "      <td>Common Procedures</td>\n",
              "      <td>irrelevant</td>\n",
              "    </tr>\n",
              "    <tr>\n",
              "      <th>4</th>\n",
              "      <td>Insult and attack me all you want. I don't car...</td>\n",
              "      <td>Common Procedures</td>\n",
              "      <td>irrelevant</td>\n",
              "    </tr>\n",
              "    <tr>\n",
              "      <th>...</th>\n",
              "      <td>...</td>\n",
              "      <td>...</td>\n",
              "      <td>...</td>\n",
              "    </tr>\n",
              "    <tr>\n",
              "      <th>21089</th>\n",
              "      <td>As part of our broad industrial strategy, Work...</td>\n",
              "      <td>Treatment</td>\n",
              "      <td>irrelevant</td>\n",
              "    </tr>\n",
              "    <tr>\n",
              "      <th>21090</th>\n",
              "      <td>The Oregon Capacity System enables healthcare ...</td>\n",
              "      <td>Treatment</td>\n",
              "      <td>irrelevant</td>\n",
              "    </tr>\n",
              "    <tr>\n",
              "      <th>21091</th>\n",
              "      <td>First when it dropped, and then again a while ...</td>\n",
              "      <td>Treatment</td>\n",
              "      <td>irrelevant</td>\n",
              "    </tr>\n",
              "    <tr>\n",
              "      <th>21092</th>\n",
              "      <td>Reminder: Next Friday (20th) we have our works...</td>\n",
              "      <td>Treatment</td>\n",
              "      <td>irrelevant</td>\n",
              "    </tr>\n",
              "    <tr>\n",
              "      <th>21093</th>\n",
              "      <td>I agree - it's deeply frightening (and horrify...</td>\n",
              "      <td>Treatment</td>\n",
              "      <td>irrelevant</td>\n",
              "    </tr>\n",
              "  </tbody>\n",
              "</table>\n",
              "<p>292 rows × 3 columns</p>\n",
              "</div>\n",
              "      <button class=\"colab-df-convert\" onclick=\"convertToInteractive('df-c8a6e096-c4f0-441b-8e6f-6003a58b8afd')\"\n",
              "              title=\"Convert this dataframe to an interactive table.\"\n",
              "              style=\"display:none;\">\n",
              "        \n",
              "  <svg xmlns=\"http://www.w3.org/2000/svg\" height=\"24px\"viewBox=\"0 0 24 24\"\n",
              "       width=\"24px\">\n",
              "    <path d=\"M0 0h24v24H0V0z\" fill=\"none\"/>\n",
              "    <path d=\"M18.56 5.44l.94 2.06.94-2.06 2.06-.94-2.06-.94-.94-2.06-.94 2.06-2.06.94zm-11 1L8.5 8.5l.94-2.06 2.06-.94-2.06-.94L8.5 2.5l-.94 2.06-2.06.94zm10 10l.94 2.06.94-2.06 2.06-.94-2.06-.94-.94-2.06-.94 2.06-2.06.94z\"/><path d=\"M17.41 7.96l-1.37-1.37c-.4-.4-.92-.59-1.43-.59-.52 0-1.04.2-1.43.59L10.3 9.45l-7.72 7.72c-.78.78-.78 2.05 0 2.83L4 21.41c.39.39.9.59 1.41.59.51 0 1.02-.2 1.41-.59l7.78-7.78 2.81-2.81c.8-.78.8-2.07 0-2.86zM5.41 20L4 18.59l7.72-7.72 1.47 1.35L5.41 20z\"/>\n",
              "  </svg>\n",
              "      </button>\n",
              "      \n",
              "  <style>\n",
              "    .colab-df-container {\n",
              "      display:flex;\n",
              "      flex-wrap:wrap;\n",
              "      gap: 12px;\n",
              "    }\n",
              "\n",
              "    .colab-df-convert {\n",
              "      background-color: #E8F0FE;\n",
              "      border: none;\n",
              "      border-radius: 50%;\n",
              "      cursor: pointer;\n",
              "      display: none;\n",
              "      fill: #1967D2;\n",
              "      height: 32px;\n",
              "      padding: 0 0 0 0;\n",
              "      width: 32px;\n",
              "    }\n",
              "\n",
              "    .colab-df-convert:hover {\n",
              "      background-color: #E2EBFA;\n",
              "      box-shadow: 0px 1px 2px rgba(60, 64, 67, 0.3), 0px 1px 3px 1px rgba(60, 64, 67, 0.15);\n",
              "      fill: #174EA6;\n",
              "    }\n",
              "\n",
              "    [theme=dark] .colab-df-convert {\n",
              "      background-color: #3B4455;\n",
              "      fill: #D2E3FC;\n",
              "    }\n",
              "\n",
              "    [theme=dark] .colab-df-convert:hover {\n",
              "      background-color: #434B5C;\n",
              "      box-shadow: 0px 1px 3px 1px rgba(0, 0, 0, 0.15);\n",
              "      filter: drop-shadow(0px 1px 2px rgba(0, 0, 0, 0.3));\n",
              "      fill: #FFFFFF;\n",
              "    }\n",
              "  </style>\n",
              "\n",
              "      <script>\n",
              "        const buttonEl =\n",
              "          document.querySelector('#df-c8a6e096-c4f0-441b-8e6f-6003a58b8afd button.colab-df-convert');\n",
              "        buttonEl.style.display =\n",
              "          google.colab.kernel.accessAllowed ? 'block' : 'none';\n",
              "\n",
              "        async function convertToInteractive(key) {\n",
              "          const element = document.querySelector('#df-c8a6e096-c4f0-441b-8e6f-6003a58b8afd');\n",
              "          const dataTable =\n",
              "            await google.colab.kernel.invokeFunction('convertToInteractive',\n",
              "                                                     [key], {});\n",
              "          if (!dataTable) return;\n",
              "\n",
              "          const docLinkHtml = 'Like what you see? Visit the ' +\n",
              "            '<a target=\"_blank\" href=https://colab.research.google.com/notebooks/data_table.ipynb>data table notebook</a>'\n",
              "            + ' to learn more about interactive tables.';\n",
              "          element.innerHTML = '';\n",
              "          dataTable['output_type'] = 'display_data';\n",
              "          await google.colab.output.renderOutput(dataTable, element);\n",
              "          const docLink = document.createElement('div');\n",
              "          docLink.innerHTML = docLinkHtml;\n",
              "          element.appendChild(docLink);\n",
              "        }\n",
              "      </script>\n",
              "    </div>\n",
              "  </div>\n",
              "  "
            ]
          },
          "metadata": {},
          "execution_count": 6
        }
      ]
    },
    {
      "cell_type": "code",
      "source": [
        "#remove extra columns\n",
        "tweets.drop(tweets.iloc[:, 5:], inplace=True, axis=1)\n",
        "tweets.drop(['tweetsORG','tweetID', 'Hashtags' ], inplace=True, axis=1 )\n",
        "#add class column\n",
        "Nan=np.nan\n",
        "tweets.insert(1, 'Class', value=Nan)\n",
        "#remove unannotated rows\n",
        "tweets.dropna(subset = ['Annotation'], inplace=True)"
      ],
      "metadata": {
        "id": "laVY8EXbW0FN"
      },
      "execution_count": 7,
      "outputs": []
    },
    {
      "cell_type": "code",
      "source": [
        "tweets"
      ],
      "metadata": {
        "colab": {
          "base_uri": "https://localhost:8080/",
          "height": 423
        },
        "id": "m8Zhw5PPI3sH",
        "outputId": "7ac954dd-7017-498f-bdb9-f251483179f8"
      },
      "execution_count": 8,
      "outputs": [
        {
          "output_type": "execute_result",
          "data": {
            "text/plain": [
              "                                           cleanTweets  Class  Annotation\n",
              "0    : It is always nice when the CT and OGD correl...    NaN  irrelevant\n",
              "1    mohali: Mohali blast: Babbar Khalsa, gangsters...    NaN  irrelevant\n",
              "2                 Polycystic Kidney Disease Symptoms..    NaN  irrelevant\n",
              "3    \"Since Rand Paul (R-Moscow) just unilaterally ...    NaN  irrelevant\n",
              "4    : Gareth, aged , is the first Australian to re...    NaN    relevant\n",
              "..                                                 ...    ...         ...\n",
              "994  Could you please share the AWB number via DM s...    NaN  irrelevant\n",
              "995  : Annual routine of Siddharth Colony freeloade...    NaN  irrelevant\n",
              "996  : You can acknowledge one persons emotional re...    NaN  irrelevant\n",
              "997  UAE President, Sheikh Khalifa bin Zayed Al-Nah...    NaN  irrelevant\n",
              "998  : Another video showing ISF elements who storm...    NaN  irrelevant\n",
              "\n",
              "[993 rows x 3 columns]"
            ],
            "text/html": [
              "\n",
              "  <div id=\"df-309c996e-6b47-42bc-8110-a84e61db5e4e\">\n",
              "    <div class=\"colab-df-container\">\n",
              "      <div>\n",
              "<style scoped>\n",
              "    .dataframe tbody tr th:only-of-type {\n",
              "        vertical-align: middle;\n",
              "    }\n",
              "\n",
              "    .dataframe tbody tr th {\n",
              "        vertical-align: top;\n",
              "    }\n",
              "\n",
              "    .dataframe thead th {\n",
              "        text-align: right;\n",
              "    }\n",
              "</style>\n",
              "<table border=\"1\" class=\"dataframe\">\n",
              "  <thead>\n",
              "    <tr style=\"text-align: right;\">\n",
              "      <th></th>\n",
              "      <th>cleanTweets</th>\n",
              "      <th>Class</th>\n",
              "      <th>Annotation</th>\n",
              "    </tr>\n",
              "  </thead>\n",
              "  <tbody>\n",
              "    <tr>\n",
              "      <th>0</th>\n",
              "      <td>: It is always nice when the CT and OGD correl...</td>\n",
              "      <td>NaN</td>\n",
              "      <td>irrelevant</td>\n",
              "    </tr>\n",
              "    <tr>\n",
              "      <th>1</th>\n",
              "      <td>mohali: Mohali blast: Babbar Khalsa, gangsters...</td>\n",
              "      <td>NaN</td>\n",
              "      <td>irrelevant</td>\n",
              "    </tr>\n",
              "    <tr>\n",
              "      <th>2</th>\n",
              "      <td>Polycystic Kidney Disease Symptoms..</td>\n",
              "      <td>NaN</td>\n",
              "      <td>irrelevant</td>\n",
              "    </tr>\n",
              "    <tr>\n",
              "      <th>3</th>\n",
              "      <td>\"Since Rand Paul (R-Moscow) just unilaterally ...</td>\n",
              "      <td>NaN</td>\n",
              "      <td>irrelevant</td>\n",
              "    </tr>\n",
              "    <tr>\n",
              "      <th>4</th>\n",
              "      <td>: Gareth, aged , is the first Australian to re...</td>\n",
              "      <td>NaN</td>\n",
              "      <td>relevant</td>\n",
              "    </tr>\n",
              "    <tr>\n",
              "      <th>...</th>\n",
              "      <td>...</td>\n",
              "      <td>...</td>\n",
              "      <td>...</td>\n",
              "    </tr>\n",
              "    <tr>\n",
              "      <th>994</th>\n",
              "      <td>Could you please share the AWB number via DM s...</td>\n",
              "      <td>NaN</td>\n",
              "      <td>irrelevant</td>\n",
              "    </tr>\n",
              "    <tr>\n",
              "      <th>995</th>\n",
              "      <td>: Annual routine of Siddharth Colony freeloade...</td>\n",
              "      <td>NaN</td>\n",
              "      <td>irrelevant</td>\n",
              "    </tr>\n",
              "    <tr>\n",
              "      <th>996</th>\n",
              "      <td>: You can acknowledge one persons emotional re...</td>\n",
              "      <td>NaN</td>\n",
              "      <td>irrelevant</td>\n",
              "    </tr>\n",
              "    <tr>\n",
              "      <th>997</th>\n",
              "      <td>UAE President, Sheikh Khalifa bin Zayed Al-Nah...</td>\n",
              "      <td>NaN</td>\n",
              "      <td>irrelevant</td>\n",
              "    </tr>\n",
              "    <tr>\n",
              "      <th>998</th>\n",
              "      <td>: Another video showing ISF elements who storm...</td>\n",
              "      <td>NaN</td>\n",
              "      <td>irrelevant</td>\n",
              "    </tr>\n",
              "  </tbody>\n",
              "</table>\n",
              "<p>993 rows × 3 columns</p>\n",
              "</div>\n",
              "      <button class=\"colab-df-convert\" onclick=\"convertToInteractive('df-309c996e-6b47-42bc-8110-a84e61db5e4e')\"\n",
              "              title=\"Convert this dataframe to an interactive table.\"\n",
              "              style=\"display:none;\">\n",
              "        \n",
              "  <svg xmlns=\"http://www.w3.org/2000/svg\" height=\"24px\"viewBox=\"0 0 24 24\"\n",
              "       width=\"24px\">\n",
              "    <path d=\"M0 0h24v24H0V0z\" fill=\"none\"/>\n",
              "    <path d=\"M18.56 5.44l.94 2.06.94-2.06 2.06-.94-2.06-.94-.94-2.06-.94 2.06-2.06.94zm-11 1L8.5 8.5l.94-2.06 2.06-.94-2.06-.94L8.5 2.5l-.94 2.06-2.06.94zm10 10l.94 2.06.94-2.06 2.06-.94-2.06-.94-.94-2.06-.94 2.06-2.06.94z\"/><path d=\"M17.41 7.96l-1.37-1.37c-.4-.4-.92-.59-1.43-.59-.52 0-1.04.2-1.43.59L10.3 9.45l-7.72 7.72c-.78.78-.78 2.05 0 2.83L4 21.41c.39.39.9.59 1.41.59.51 0 1.02-.2 1.41-.59l7.78-7.78 2.81-2.81c.8-.78.8-2.07 0-2.86zM5.41 20L4 18.59l7.72-7.72 1.47 1.35L5.41 20z\"/>\n",
              "  </svg>\n",
              "      </button>\n",
              "      \n",
              "  <style>\n",
              "    .colab-df-container {\n",
              "      display:flex;\n",
              "      flex-wrap:wrap;\n",
              "      gap: 12px;\n",
              "    }\n",
              "\n",
              "    .colab-df-convert {\n",
              "      background-color: #E8F0FE;\n",
              "      border: none;\n",
              "      border-radius: 50%;\n",
              "      cursor: pointer;\n",
              "      display: none;\n",
              "      fill: #1967D2;\n",
              "      height: 32px;\n",
              "      padding: 0 0 0 0;\n",
              "      width: 32px;\n",
              "    }\n",
              "\n",
              "    .colab-df-convert:hover {\n",
              "      background-color: #E2EBFA;\n",
              "      box-shadow: 0px 1px 2px rgba(60, 64, 67, 0.3), 0px 1px 3px 1px rgba(60, 64, 67, 0.15);\n",
              "      fill: #174EA6;\n",
              "    }\n",
              "\n",
              "    [theme=dark] .colab-df-convert {\n",
              "      background-color: #3B4455;\n",
              "      fill: #D2E3FC;\n",
              "    }\n",
              "\n",
              "    [theme=dark] .colab-df-convert:hover {\n",
              "      background-color: #434B5C;\n",
              "      box-shadow: 0px 1px 3px 1px rgba(0, 0, 0, 0.15);\n",
              "      filter: drop-shadow(0px 1px 2px rgba(0, 0, 0, 0.3));\n",
              "      fill: #FFFFFF;\n",
              "    }\n",
              "  </style>\n",
              "\n",
              "      <script>\n",
              "        const buttonEl =\n",
              "          document.querySelector('#df-309c996e-6b47-42bc-8110-a84e61db5e4e button.colab-df-convert');\n",
              "        buttonEl.style.display =\n",
              "          google.colab.kernel.accessAllowed ? 'block' : 'none';\n",
              "\n",
              "        async function convertToInteractive(key) {\n",
              "          const element = document.querySelector('#df-309c996e-6b47-42bc-8110-a84e61db5e4e');\n",
              "          const dataTable =\n",
              "            await google.colab.kernel.invokeFunction('convertToInteractive',\n",
              "                                                     [key], {});\n",
              "          if (!dataTable) return;\n",
              "\n",
              "          const docLinkHtml = 'Like what you see? Visit the ' +\n",
              "            '<a target=\"_blank\" href=https://colab.research.google.com/notebooks/data_table.ipynb>data table notebook</a>'\n",
              "            + ' to learn more about interactive tables.';\n",
              "          element.innerHTML = '';\n",
              "          dataTable['output_type'] = 'display_data';\n",
              "          await google.colab.output.renderOutput(dataTable, element);\n",
              "          const docLink = document.createElement('div');\n",
              "          docLink.innerHTML = docLinkHtml;\n",
              "          element.appendChild(docLink);\n",
              "        }\n",
              "      </script>\n",
              "    </div>\n",
              "  </div>\n",
              "  "
            ]
          },
          "metadata": {},
          "execution_count": 8
        }
      ]
    },
    {
      "cell_type": "code",
      "source": [
        "print(len(tweets))\n",
        "print(len(tweetsClass))"
      ],
      "metadata": {
        "colab": {
          "base_uri": "https://localhost:8080/"
        },
        "id": "lDSwp1VCcpEn",
        "outputId": "ecffeba9-4081-41e1-c8f1-5adcb9eb3e71"
      },
      "execution_count": 9,
      "outputs": [
        {
          "output_type": "stream",
          "name": "stdout",
          "text": [
            "993\n",
            "292\n"
          ]
        }
      ]
    },
    {
      "cell_type": "code",
      "source": [
        "#final data with annotations\n",
        "data = pd.concat([tweets, tweetsClass], axis=0) \n",
        "data.drop_duplicates(subset=\"cleanTweets\", inplace=True)\n",
        "data.dropna(subset = ['cleanTweets'], inplace=True)"
      ],
      "metadata": {
        "id": "5k2Gc1hgcpLV"
      },
      "execution_count": 10,
      "outputs": []
    },
    {
      "cell_type": "code",
      "source": [
        "len(data)"
      ],
      "metadata": {
        "colab": {
          "base_uri": "https://localhost:8080/"
        },
        "id": "2trr0iV3ak-T",
        "outputId": "e5c7b08b-bfd5-4257-ddc4-424dba57e8d4"
      },
      "execution_count": 42,
      "outputs": [
        {
          "output_type": "execute_result",
          "data": {
            "text/plain": [
              "1283"
            ]
          },
          "metadata": {},
          "execution_count": 42
        }
      ]
    },
    {
      "cell_type": "code",
      "source": [
        "# split data into train and test\n",
        "train, test = train_test_split(data, test_size=0.2, random_state=42)\n",
        "# let's select some sample from train set \n",
        "initial_train = train.sample(frac=0.05, random_state=42)\n",
        "initial_train.reset_index(drop=True, inplace=True)\n",
        "# and create our unlabelled pool\n",
        "pool = train[~train.index.isin(initial_train.index)]\n",
        "pool.reset_index(drop=True, inplace=True)"
      ],
      "metadata": {
        "id": "cCrei0kKJEge"
      },
      "execution_count": 43,
      "outputs": []
    },
    {
      "cell_type": "code",
      "source": [
        "print(\"pool: \", len(pool), \"initial train: \", len(initial_train))"
      ],
      "metadata": {
        "colab": {
          "base_uri": "https://localhost:8080/"
        },
        "id": "H7ZIRAsCa0L6",
        "outputId": "8b273b91-da03-44e6-aa95-72b78d9e6309"
      },
      "execution_count": 45,
      "outputs": [
        {
          "output_type": "stream",
          "name": "stdout",
          "text": [
            "pool:  946 initial train:  51\n"
          ]
        }
      ]
    },
    {
      "cell_type": "code",
      "source": [
        "class QueryStrategy(abc.ABC):\n",
        "    @abc.abstractmethod\n",
        "    def selection(self, *args, **kwargs):\n",
        "        raise NotImplementedError"
      ],
      "metadata": {
        "id": "ClzBHYQwP-mx"
      },
      "execution_count": 46,
      "outputs": []
    },
    {
      "cell_type": "code",
      "source": [
        "class RandomSelection(QueryStrategy):\n",
        "    \"\"\"\n",
        "    Random selection strategy.\n",
        "\n",
        "    Parameters:\n",
        "    probs: int - number of data samples in unlabelled pool\n",
        "    num_samples: int - number of samples which we want to select\n",
        "\n",
        "    Returns:\n",
        "    List[int]: List of data samples indexes which will be selected.\n",
        "    \"\"\"\n",
        "    def selection(self, probs: np.ndarray, num_samples: int) -> List[int]:\n",
        "        if probs.shape[0] >= num_samples:\n",
        "            selection = np.random.choice(probs.shape[0], num_samples, replace=False)\n",
        "        else:\n",
        "            selection = np.arange(probs.shape[0])\n",
        "        return selection"
      ],
      "metadata": {
        "id": "jS-dWtb_QNdV"
      },
      "execution_count": 47,
      "outputs": []
    },
    {
      "cell_type": "code",
      "source": [
        "class MarginSelection(QueryStrategy):\n",
        "    \"\"\"\n",
        "    Margin selection strategy.\n",
        "\n",
        "    Parameters:\n",
        "    probs: np.ndarray - predicted probabilities of the unlabelled pool\n",
        "    num_samples: int - number of samples which we want to select\n",
        "\n",
        "    Returns:\n",
        "    List[int]: List of data samples indexes which will be selected.\n",
        "    \"\"\"\n",
        "    def selection(self, probs: np.ndarray, num_samples:int) -> List[int]:\n",
        "        rev = np.sort(probs, axis=1)[:, ::-1]\n",
        "        values = rev[:, 0] - rev[:, 1]\n",
        "        if len(probs) >= num_samples:\n",
        "            selection = np.argsort(values)[:num_samples]\n",
        "        else:\n",
        "            selection = np.argsort(values)\n",
        "        return selection"
      ],
      "metadata": {
        "id": "z6BHHBZ3QQat"
      },
      "execution_count": 48,
      "outputs": []
    },
    {
      "cell_type": "code",
      "source": [
        "class MostErrorBucketSelection(QueryStrategy):\n",
        "    \"\"\"\n",
        "    Select from the specific range of the predicted probabilities, which contains the most amount of errors.\n",
        "\n",
        "    Parameters:\n",
        "    probs: np.ndarray - predicted probabilities of the unlabelled pool\n",
        "    num_samples: int - number of samples which we want to select\n",
        "    train: pd.Dataframe - train\n",
        "    clf - classificator\n",
        "\n",
        "    Returns:\n",
        "    List[int]: List of data samples indexes which will be selected.\n",
        "    \"\"\"\n",
        "    def selection(self, probs: np.ndarray, num_samples: int, train_: pd.DataFrame, clf):\n",
        "        train_[\"probs\"] = clf.predict_proba(train_[\"cleanTweets\"])[:, 1]\n",
        "        train_[\"decile\"] = pd.cut(train_[\"probs\"], 10)\n",
        "        train_[\"preds\"] = clf.predict(train_[\"cleanTweets\"])\n",
        "        train_[\"error\"] = train_.apply(lambda x: 1 if x[\"preds\"] != x[\"Annotation\"] else 0, axis=1)\n",
        "        train_[\"num_errors\"] = train_.groupby(\"decile\")[\"error\"].transform(lambda x: x.sum())\n",
        "        error_inter = train_.iloc[train_[\"num_errors\"].argmax()][\"decile\"]\n",
        "        mask = np.array([True if a in error_inter else False for a in probs[:, 1]])\n",
        "        selection = mask.argsort()[-num_samples:]\n",
        "        return selection"
      ],
      "metadata": {
        "id": "2ltKOFL0QVCy"
      },
      "execution_count": 49,
      "outputs": []
    },
    {
      "cell_type": "code",
      "source": [
        "from typing import Callable, List, Any\n",
        "from sklearn.metrics import f1_score\n",
        "import inspect\n",
        "\n",
        "\n",
        "class ActiveLearner:\n",
        "    def __init__(self, test: pd.DataFrame, initial_train:pd.DataFrame, pool:pd.DataFrame,\n",
        "                 classifier, batch_size: int = 10):\n",
        "        self.batch_size: int = batch_size\n",
        "        self.test: pd.DataFrame = test # test set\n",
        "        self.train: pd.DataFrame = initial_train.copy() # train set\n",
        "        self.pool: pd.DataFrame = pool.copy() # unlabeled pool\n",
        "        self.classifier = classifier # classifier\n",
        "        self.classifier.fit(self.train[\"cleanTweets\"], self.train[\"Annotation\"]) # fitting the classifier on initial train set\n",
        "        self.calculated_metrics: List[float] = list() #define a list where we will put metrics from every iteration\n",
        "        # store the metrics on 0 iteration\n",
        "        self.calculated_metrics.append(f1_score(self.test[\"Annotation\"],\n",
        "                                                self.classifier.predict(self.test[\"cleanTweets\"]),\n",
        "                                                pos_label=\"relevant\"))\n",
        "\n",
        "    def active_learning_cycle(self, iterations_num: int , selection_type: Any, embedder = None):\n",
        "        for it in range(iterations_num):\n",
        "            probs = self.classifier.predict_proba(self.pool[\"cleanTweets\"]) # make predictions on unlabelled pool\n",
        "            args: List[str] = inspect.getfullargspec(selection_type.selection)[0]\n",
        "            if len(args)==3:\n",
        "                indexes = selection_type.selection(probs, self.batch_size) # get the indexes of data samples with query strategy\n",
        "            elif embedder:\n",
        "                indexes = selection_type.selection(embedder, self.batch_size, self.train, self.pool)\n",
        "            else:\n",
        "                indexes = selection_type.selection(probs, self.batch_size, self.train, self.classifier)\n",
        "            new = self.pool[self.pool.index.isin(indexes)] # select data samples by indexes from pool\n",
        "            self.train = pd.concat([self.train, new]) # as we already have labels, append labelled sample to train data\n",
        "            self.train.reset_index(drop=True, inplace=True)\n",
        "            self.pool.drop(indexes, inplace=True) # drop selected samples from ublabeled pool\n",
        "            self.pool.reset_index(drop=True, inplace=True) # reset indexing\n",
        "            self.classifier.fit(self.train[\"cleanTweets\"], self.train[\"Annotation\"]) # fit the classifier on updated train set\n",
        "            preds = self.classifier.predict(self.test[\"cleanTweets\"]) # do the predictions on the test set\n",
        "            self.calculated_metrics.append(f1_score(self.test[\"Annotation\"], preds, pos_label=\"relevant\")) # monitor choosen metric on test set"
      ],
      "metadata": {
        "id": "4BYA0A8GQh1r"
      },
      "execution_count": 50,
      "outputs": []
    },
    {
      "cell_type": "code",
      "source": [
        "# calculate possible amount of iterations with given batch_size\n",
        "iterations_num = int(pool.shape[0]/10)\n",
        "# specify the classifier\n",
        "classifier = Pipeline( \n",
        "    steps=[\n",
        "        (\"tfidf\", TfidfVectorizer()),\n",
        "        ('clf', LogisticRegression(random_state=42)),])\n",
        "\n",
        "# random sampling\n",
        "random_cycle = ActiveLearner(test, initial_train, pool, classifier)\n",
        "random_cycle.active_learning_cycle(iterations_num = iterations_num,\n",
        "                                   selection_type = RandomSelection())\n",
        "\n",
        "# margin sampling\n",
        "margin_cycle = ActiveLearner(test, initial_train, pool, classifier)\n",
        "margin_cycle.active_learning_cycle(iterations_num = iterations_num,\n",
        "                                   selection_type = MarginSelection())\n",
        "\n",
        "# most error in the bucket selection\n",
        "error_bucket_cycle = ActiveLearner(test, initial_train, pool, classifier)\n",
        "error_bucket_cycle.active_learning_cycle(iterations_num = iterations_num,\n",
        "                                          selection_type = MostErrorBucketSelection())\n",
        "\n",
        "# # text similarity selection\n",
        "# embedder_cycle = ActiveLearner(test, initial_train, pool, classifier)\n",
        "# embedder = hub.load(\"https://tfhub.dev/google/universal-sentence-encoder/4\")\n",
        "# embedder_cycle.active_learning_cycle(iterations_num = iterations_num,\n",
        "#                                      selection_type = EmbeddingSimilatitySelection(),\n",
        "#                                      embedder=embedder)"
      ],
      "metadata": {
        "id": "qnK7IFcaQcTm"
      },
      "execution_count": 51,
      "outputs": []
    },
    {
      "cell_type": "code",
      "source": [
        "# result plot\n",
        "import matplotlib.pyplot as plt\n",
        "\n",
        "BIGGER_SIZE: int = 16\n",
        "plt.figure(figsize=(15,8))\n",
        "plt.rc('font', size=BIGGER_SIZE)          # controls default text sizes\n",
        "plt.rc('axes', titlesize=BIGGER_SIZE)     # fontsize of the axes title=\n",
        "plt.rc('axes', labelsize=BIGGER_SIZE)    # fontsize of the x and y labels\n",
        "plt.rc('xtick', labelsize=BIGGER_SIZE)    # fontsize of the tick labels\n",
        "plt.rc('ytick', labelsize=BIGGER_SIZE)    # fontsize of the tick labels\n",
        "plt.rc('legend', fontsize=BIGGER_SIZE)    # legend fontsize\n",
        "plt.rc('figure', titlesize=BIGGER_SIZE)\n",
        "\n",
        "iterations = np.arange(0, iterations_num+1, 1)\n",
        "\n",
        "plt.title (\"F1 score on test dataset by iteration\", fontsize=BIGGER_SIZE)\n",
        "plt.ylabel(\"Test F1 score\", fontsize=BIGGER_SIZE)\n",
        "plt.ylim(0,1.1)\n",
        "plt.xlim(-1,iterations_num+10)\n",
        "plt.xticks(np.arange(0, iterations_num+1, 40))\n",
        "plt.yticks(np.arange(0, 1.1, 0.2))\n",
        "plt.xlabel(\"Iteration number (10  data samples per iterations)\")\n",
        "plt.plot(iterations, random_cycle.calculated_metrics, label = \"Random selection\", marker='s', markevery=10)\n",
        "plt.plot(iterations, margin_cycle.calculated_metrics, label = \"Margin selection\", marker='s', markevery=10)\n",
        "plt.plot(iterations, error_bucket_cycle.calculated_metrics, label = \"Most errors interval selection\", marker='o', markevery=10)\n",
        "#plt.plot(iterations, embedder_cycle.calculated_metrics, label = \"Text similarity selection\", marker='o', markevery=10)\n",
        "plt.legend()\n",
        "plt.show()\n",
        "# 14 iteration for margin cycle\n",
        "# 14 iteration for most error selection\n",
        "# 20 iteration for embbeder query"
      ],
      "metadata": {
        "colab": {
          "base_uri": "https://localhost:8080/",
          "height": 545
        },
        "id": "ukJtbKOkbKVi",
        "outputId": "feaf1c63-7fee-4356-ed93-eb6c93746dff"
      },
      "execution_count": 52,
      "outputs": [
        {
          "output_type": "display_data",
          "data": {
            "text/plain": [
              "<Figure size 1080x576 with 1 Axes>"
            ],
            "image/png": "[encoded data removed]"
          },
          "metadata": {}
        }
      ]
    }
  ]
}